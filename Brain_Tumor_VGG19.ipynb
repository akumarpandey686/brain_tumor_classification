{
  "nbformat": 4,
  "nbformat_minor": 0,
  "metadata": {
    "colab": {
      "name": "Brain_tumor_ResNet.ipynb",
      "provenance": [],
      "mount_file_id": "1yydq-Z8AqEq1uSWORUtqNdTZ8oC00WMV",
      "authorship_tag": "ABX9TyNbyTo1smor+6i6+zK5jl47",
      "include_colab_link": true
    },
    "kernelspec": {
      "name": "python3",
      "display_name": "Python 3"
    },
    "accelerator": "GPU"
  },
  "cells": [
    {
      "cell_type": "markdown",
      "metadata": {
        "id": "view-in-github",
        "colab_type": "text"
      },
      "source": [
        "<a href=\"https://colab.research.google.com/github/akumarpandey686/brain_tumor_classification/blob/master/Brain_Tumor_VGG19.ipynb\" target=\"_parent\"><img src=\"https://colab.research.google.com/assets/colab-badge.svg\" alt=\"Open In Colab\"/></a>"
      ]
    },
    {
      "cell_type": "code",
      "metadata": {
        "id": "H9x_2GvV7Eym",
        "colab_type": "code",
        "colab": {}
      },
      "source": [
        "\n",
        "# import the libraries as shown below\n",
        "\n",
        "from tensorflow.keras.layers import Input, Lambda, Dense, Flatten,Conv2D\n",
        "from tensorflow.keras.models import Model\n",
        "from tensorflow.keras.applications.vgg19 import VGG19\n",
        "from tensorflow.keras.applications.resnet50 import preprocess_input\n",
        "from tensorflow.keras.preprocessing import image\n",
        "from tensorflow.keras.preprocessing.image import ImageDataGenerator,load_img\n",
        "from tensorflow.keras.models import Sequential\n",
        "import numpy as np\n",
        "from glob import glob\n",
        "import matplotlib.pyplot as plt"
      ],
      "execution_count": 2,
      "outputs": []
    },
    {
      "cell_type": "code",
      "metadata": {
        "id": "pLosOXyj86Yv",
        "colab_type": "code",
        "colab": {}
      },
      "source": [
        "# Re-size all the images to this\n",
        "IMAGE_SIZE = [224, 224]\n",
        "\n",
        "train_path = '/content/drive/My Drive/MTech/final_dataset/train'\n",
        "valid_path = '/content/drive/My Drive/MTech/final_dataset/test'"
      ],
      "execution_count": 3,
      "outputs": []
    },
    {
      "cell_type": "code",
      "metadata": {
        "id": "RANOh4ZN9K37",
        "colab_type": "code",
        "colab": {
          "base_uri": "https://localhost:8080/",
          "height": 51
        },
        "outputId": "639f21a6-a6ff-4751-d0f5-9978a1c81bf2"
      },
      "source": [
        "# Import the Vgg 16 library as shown below and add preprocessing layer to the front of VGG\n",
        "# We are using imagenet weights\n",
        "\n",
        "vgg = VGG19(input_shape=IMAGE_SIZE + [3], weights='imagenet', include_top=False)"
      ],
      "execution_count": 4,
      "outputs": [
        {
          "output_type": "stream",
          "text": [
            "Downloading data from https://storage.googleapis.com/tensorflow/keras-applications/vgg19/vgg19_weights_tf_dim_ordering_tf_kernels_notop.h5\n",
            "80142336/80134624 [==============================] - 1s 0us/step\n"
          ],
          "name": "stdout"
        }
      ]
    },
    {
      "cell_type": "code",
      "metadata": {
        "id": "pc6AC3RFjcGP",
        "colab_type": "code",
        "colab": {
          "base_uri": "https://localhost:8080/",
          "height": 901
        },
        "outputId": "37a48205-9fa7-4e56-f525-f124c07899e1"
      },
      "source": [
        "vgg.summary()"
      ],
      "execution_count": 5,
      "outputs": [
        {
          "output_type": "stream",
          "text": [
            "Model: \"vgg19\"\n",
            "_________________________________________________________________\n",
            "Layer (type)                 Output Shape              Param #   \n",
            "=================================================================\n",
            "input_1 (InputLayer)         [(None, 224, 224, 3)]     0         \n",
            "_________________________________________________________________\n",
            "block1_conv1 (Conv2D)        (None, 224, 224, 64)      1792      \n",
            "_________________________________________________________________\n",
            "block1_conv2 (Conv2D)        (None, 224, 224, 64)      36928     \n",
            "_________________________________________________________________\n",
            "block1_pool (MaxPooling2D)   (None, 112, 112, 64)      0         \n",
            "_________________________________________________________________\n",
            "block2_conv1 (Conv2D)        (None, 112, 112, 128)     73856     \n",
            "_________________________________________________________________\n",
            "block2_conv2 (Conv2D)        (None, 112, 112, 128)     147584    \n",
            "_________________________________________________________________\n",
            "block2_pool (MaxPooling2D)   (None, 56, 56, 128)       0         \n",
            "_________________________________________________________________\n",
            "block3_conv1 (Conv2D)        (None, 56, 56, 256)       295168    \n",
            "_________________________________________________________________\n",
            "block3_conv2 (Conv2D)        (None, 56, 56, 256)       590080    \n",
            "_________________________________________________________________\n",
            "block3_conv3 (Conv2D)        (None, 56, 56, 256)       590080    \n",
            "_________________________________________________________________\n",
            "block3_conv4 (Conv2D)        (None, 56, 56, 256)       590080    \n",
            "_________________________________________________________________\n",
            "block3_pool (MaxPooling2D)   (None, 28, 28, 256)       0         \n",
            "_________________________________________________________________\n",
            "block4_conv1 (Conv2D)        (None, 28, 28, 512)       1180160   \n",
            "_________________________________________________________________\n",
            "block4_conv2 (Conv2D)        (None, 28, 28, 512)       2359808   \n",
            "_________________________________________________________________\n",
            "block4_conv3 (Conv2D)        (None, 28, 28, 512)       2359808   \n",
            "_________________________________________________________________\n",
            "block4_conv4 (Conv2D)        (None, 28, 28, 512)       2359808   \n",
            "_________________________________________________________________\n",
            "block4_pool (MaxPooling2D)   (None, 14, 14, 512)       0         \n",
            "_________________________________________________________________\n",
            "block5_conv1 (Conv2D)        (None, 14, 14, 512)       2359808   \n",
            "_________________________________________________________________\n",
            "block5_conv2 (Conv2D)        (None, 14, 14, 512)       2359808   \n",
            "_________________________________________________________________\n",
            "block5_conv3 (Conv2D)        (None, 14, 14, 512)       2359808   \n",
            "_________________________________________________________________\n",
            "block5_conv4 (Conv2D)        (None, 14, 14, 512)       2359808   \n",
            "_________________________________________________________________\n",
            "block5_pool (MaxPooling2D)   (None, 7, 7, 512)         0         \n",
            "=================================================================\n",
            "Total params: 20,024,384\n",
            "Trainable params: 20,024,384\n",
            "Non-trainable params: 0\n",
            "_________________________________________________________________\n"
          ],
          "name": "stdout"
        }
      ]
    },
    {
      "cell_type": "code",
      "metadata": {
        "id": "aFj1HtRq9qBN",
        "colab_type": "code",
        "colab": {}
      },
      "source": [
        "# don't train existing weights\n",
        "for layer in vgg.layers:\n",
        "    layer.trainable = False"
      ],
      "execution_count": 6,
      "outputs": []
    },
    {
      "cell_type": "code",
      "metadata": {
        "id": "JL_7K8RS9_gC",
        "colab_type": "code",
        "colab": {}
      },
      "source": [
        "# useful for getting number of output classes\n",
        "folders = glob('/content/drive/My Drive/MTech/final_dataset/train/*')"
      ],
      "execution_count": 7,
      "outputs": []
    },
    {
      "cell_type": "code",
      "metadata": {
        "id": "j6r43eL8-CU9",
        "colab_type": "code",
        "colab": {
          "base_uri": "https://localhost:8080/",
          "height": 51
        },
        "outputId": "912941c6-a5fb-4926-c824-d01039be4df5"
      },
      "source": [
        "folders"
      ],
      "execution_count": 8,
      "outputs": [
        {
          "output_type": "execute_result",
          "data": {
            "text/plain": [
              "['/content/drive/My Drive/MTech/final_dataset/train/tumor',\n",
              " '/content/drive/My Drive/MTech/final_dataset/train/non_tumor']"
            ]
          },
          "metadata": {
            "tags": []
          },
          "execution_count": 8
        }
      ]
    },
    {
      "cell_type": "code",
      "metadata": {
        "id": "g6Fly2hU-GMQ",
        "colab_type": "code",
        "colab": {}
      },
      "source": [
        "# our layers - you can add more if you want\n",
        "x = Flatten()(vgg.output)"
      ],
      "execution_count": 9,
      "outputs": []
    },
    {
      "cell_type": "code",
      "metadata": {
        "id": "0Z4seBIB-JQB",
        "colab_type": "code",
        "colab": {}
      },
      "source": [
        "prediction = Dense(len(folders), activation='softmax')(x)\n",
        "\n",
        "# create a model object\n",
        "model = Model(inputs=vgg.input, outputs=prediction)"
      ],
      "execution_count": 10,
      "outputs": []
    },
    {
      "cell_type": "code",
      "metadata": {
        "id": "OVOiRiNz-Mwj",
        "colab_type": "code",
        "colab": {
          "base_uri": "https://localhost:8080/",
          "height": 969
        },
        "outputId": "7a801798-8eea-4b3a-a868-9af12caf54d0"
      },
      "source": [
        "# view the structure of the model\n",
        "model.summary()"
      ],
      "execution_count": 11,
      "outputs": [
        {
          "output_type": "stream",
          "text": [
            "Model: \"model\"\n",
            "_________________________________________________________________\n",
            "Layer (type)                 Output Shape              Param #   \n",
            "=================================================================\n",
            "input_1 (InputLayer)         [(None, 224, 224, 3)]     0         \n",
            "_________________________________________________________________\n",
            "block1_conv1 (Conv2D)        (None, 224, 224, 64)      1792      \n",
            "_________________________________________________________________\n",
            "block1_conv2 (Conv2D)        (None, 224, 224, 64)      36928     \n",
            "_________________________________________________________________\n",
            "block1_pool (MaxPooling2D)   (None, 112, 112, 64)      0         \n",
            "_________________________________________________________________\n",
            "block2_conv1 (Conv2D)        (None, 112, 112, 128)     73856     \n",
            "_________________________________________________________________\n",
            "block2_conv2 (Conv2D)        (None, 112, 112, 128)     147584    \n",
            "_________________________________________________________________\n",
            "block2_pool (MaxPooling2D)   (None, 56, 56, 128)       0         \n",
            "_________________________________________________________________\n",
            "block3_conv1 (Conv2D)        (None, 56, 56, 256)       295168    \n",
            "_________________________________________________________________\n",
            "block3_conv2 (Conv2D)        (None, 56, 56, 256)       590080    \n",
            "_________________________________________________________________\n",
            "block3_conv3 (Conv2D)        (None, 56, 56, 256)       590080    \n",
            "_________________________________________________________________\n",
            "block3_conv4 (Conv2D)        (None, 56, 56, 256)       590080    \n",
            "_________________________________________________________________\n",
            "block3_pool (MaxPooling2D)   (None, 28, 28, 256)       0         \n",
            "_________________________________________________________________\n",
            "block4_conv1 (Conv2D)        (None, 28, 28, 512)       1180160   \n",
            "_________________________________________________________________\n",
            "block4_conv2 (Conv2D)        (None, 28, 28, 512)       2359808   \n",
            "_________________________________________________________________\n",
            "block4_conv3 (Conv2D)        (None, 28, 28, 512)       2359808   \n",
            "_________________________________________________________________\n",
            "block4_conv4 (Conv2D)        (None, 28, 28, 512)       2359808   \n",
            "_________________________________________________________________\n",
            "block4_pool (MaxPooling2D)   (None, 14, 14, 512)       0         \n",
            "_________________________________________________________________\n",
            "block5_conv1 (Conv2D)        (None, 14, 14, 512)       2359808   \n",
            "_________________________________________________________________\n",
            "block5_conv2 (Conv2D)        (None, 14, 14, 512)       2359808   \n",
            "_________________________________________________________________\n",
            "block5_conv3 (Conv2D)        (None, 14, 14, 512)       2359808   \n",
            "_________________________________________________________________\n",
            "block5_conv4 (Conv2D)        (None, 14, 14, 512)       2359808   \n",
            "_________________________________________________________________\n",
            "block5_pool (MaxPooling2D)   (None, 7, 7, 512)         0         \n",
            "_________________________________________________________________\n",
            "flatten (Flatten)            (None, 25088)             0         \n",
            "_________________________________________________________________\n",
            "dense (Dense)                (None, 2)                 50178     \n",
            "=================================================================\n",
            "Total params: 20,074,562\n",
            "Trainable params: 50,178\n",
            "Non-trainable params: 20,024,384\n",
            "_________________________________________________________________\n"
          ],
          "name": "stdout"
        }
      ]
    },
    {
      "cell_type": "code",
      "metadata": {
        "id": "qbUTrl1j_DAo",
        "colab_type": "code",
        "colab": {}
      },
      "source": [
        "from tensorflow.keras.layers import MaxPooling2D"
      ],
      "execution_count": 12,
      "outputs": []
    },
    {
      "cell_type": "code",
      "metadata": {
        "id": "BfjfKT8X_IP8",
        "colab_type": "code",
        "colab": {
          "base_uri": "https://localhost:8080/",
          "height": 459
        },
        "outputId": "20cabdc1-c998-48b8-b69e-94722df17a4e"
      },
      "source": [
        "### Create Model from scratch using CNN\n",
        "model=Sequential()\n",
        "model.add(Conv2D(filters=16,kernel_size=2,padding=\"same\",activation=\"relu\",input_shape=(224,224,3)))\n",
        "model.add(MaxPooling2D(pool_size=2))\n",
        "model.add(Conv2D(filters=32,kernel_size=2,padding=\"same\",activation =\"relu\"))\n",
        "model.add(MaxPooling2D(pool_size=2))\n",
        "model.add(Conv2D(filters=64,kernel_size=2,padding=\"same\",activation=\"relu\"))\n",
        "model.add(MaxPooling2D(pool_size=2))\n",
        "model.add(Flatten())\n",
        "model.add(Dense(500,activation=\"relu\"))\n",
        "model.add(Dense(2,activation=\"softmax\"))\n",
        "model.summary()"
      ],
      "execution_count": 13,
      "outputs": [
        {
          "output_type": "stream",
          "text": [
            "Model: \"sequential\"\n",
            "_________________________________________________________________\n",
            "Layer (type)                 Output Shape              Param #   \n",
            "=================================================================\n",
            "conv2d (Conv2D)              (None, 224, 224, 16)      208       \n",
            "_________________________________________________________________\n",
            "max_pooling2d (MaxPooling2D) (None, 112, 112, 16)      0         \n",
            "_________________________________________________________________\n",
            "conv2d_1 (Conv2D)            (None, 112, 112, 32)      2080      \n",
            "_________________________________________________________________\n",
            "max_pooling2d_1 (MaxPooling2 (None, 56, 56, 32)        0         \n",
            "_________________________________________________________________\n",
            "conv2d_2 (Conv2D)            (None, 56, 56, 64)        8256      \n",
            "_________________________________________________________________\n",
            "max_pooling2d_2 (MaxPooling2 (None, 28, 28, 64)        0         \n",
            "_________________________________________________________________\n",
            "flatten_1 (Flatten)          (None, 50176)             0         \n",
            "_________________________________________________________________\n",
            "dense_1 (Dense)              (None, 500)               25088500  \n",
            "_________________________________________________________________\n",
            "dense_2 (Dense)              (None, 2)                 1002      \n",
            "=================================================================\n",
            "Total params: 25,100,046\n",
            "Trainable params: 25,100,046\n",
            "Non-trainable params: 0\n",
            "_________________________________________________________________\n"
          ],
          "name": "stdout"
        }
      ]
    },
    {
      "cell_type": "code",
      "metadata": {
        "id": "7_M0in84_wtD",
        "colab_type": "code",
        "colab": {}
      },
      "source": [
        "# tell the model what cost and optimization method to use\n",
        "model.compile(\n",
        "  loss='categorical_crossentropy',\n",
        "  optimizer='adam',\n",
        "  metrics=['accuracy']\n",
        ")"
      ],
      "execution_count": 14,
      "outputs": []
    },
    {
      "cell_type": "code",
      "metadata": {
        "id": "AqsNuR6s_9sx",
        "colab_type": "code",
        "colab": {}
      },
      "source": [
        "# Use the Image Data Generator to import the images from the dataset\n",
        "from tensorflow.keras.preprocessing.image import ImageDataGenerator\n",
        "\n",
        "train_datagen = ImageDataGenerator(rescale = 1./255,\n",
        "                                   shear_range = 0.2,\n",
        "                                   zoom_range = 0.2,\n",
        "                                   horizontal_flip = True)\n",
        "\n",
        "test_datagen = ImageDataGenerator(rescale = 1./255)"
      ],
      "execution_count": 15,
      "outputs": []
    },
    {
      "cell_type": "code",
      "metadata": {
        "id": "BY7YP-EWASE-",
        "colab_type": "code",
        "colab": {
          "base_uri": "https://localhost:8080/",
          "height": 34
        },
        "outputId": "a4d36275-06a7-4af6-fcd9-40ed40c6d767"
      },
      "source": [
        "# Make sure you provide the same target size as initialied for the image size\n",
        "training_set = train_datagen.flow_from_directory('/content/drive/My Drive/MTech/final_dataset/train',\n",
        "                                                 target_size = (224, 224),\n",
        "                                                 batch_size = 32,\n",
        "                                                 class_mode = 'categorical')"
      ],
      "execution_count": 16,
      "outputs": [
        {
          "output_type": "stream",
          "text": [
            "Found 188 images belonging to 2 classes.\n"
          ],
          "name": "stdout"
        }
      ]
    },
    {
      "cell_type": "code",
      "metadata": {
        "id": "Z19Ddd6wMyxV",
        "colab_type": "code",
        "colab": {
          "base_uri": "https://localhost:8080/",
          "height": 34
        },
        "outputId": "b12b4810-02b1-4fc0-bbe1-b1a3d00becd9"
      },
      "source": [
        "test_set = test_datagen.flow_from_directory('/content/drive/My Drive/MTech/final_dataset/test',\n",
        "                                            target_size = (224, 224),\n",
        "                                            batch_size = 32,\n",
        "                                            class_mode = 'categorical')"
      ],
      "execution_count": 17,
      "outputs": [
        {
          "output_type": "stream",
          "text": [
            "Found 75 images belonging to 2 classes.\n"
          ],
          "name": "stdout"
        }
      ]
    },
    {
      "cell_type": "code",
      "metadata": {
        "id": "FLFV77eiNA1K",
        "colab_type": "code",
        "colab": {
          "base_uri": "https://localhost:8080/",
          "height": 1000
        },
        "outputId": "f7c07341-0236-44ad-a8a2-0833ebab9f6b"
      },
      "source": [
        "# fit the model\n",
        "# Run the cell. It will take some time to execute\n",
        "r = model.fit_generator(\n",
        "  training_set,\n",
        "  validation_data=test_set,\n",
        "  epochs=50,\n",
        "  steps_per_epoch=len(training_set),\n",
        "  validation_steps=len(test_set)\n",
        ")"
      ],
      "execution_count": 18,
      "outputs": [
        {
          "output_type": "stream",
          "text": [
            "WARNING:tensorflow:From <ipython-input-18-69229fe26ea3>:8: Model.fit_generator (from tensorflow.python.keras.engine.training) is deprecated and will be removed in a future version.\n",
            "Instructions for updating:\n",
            "Please use Model.fit, which supports generators.\n",
            "Epoch 1/50\n",
            "6/6 [==============================] - 141s 24s/step - loss: 2.3985 - accuracy: 0.4681 - val_loss: 0.5161 - val_accuracy: 0.7867\n",
            "Epoch 2/50\n",
            "6/6 [==============================] - 2s 401ms/step - loss: 0.7607 - accuracy: 0.6223 - val_loss: 0.5750 - val_accuracy: 0.6400\n",
            "Epoch 3/50\n",
            "6/6 [==============================] - 2s 408ms/step - loss: 0.6271 - accuracy: 0.6755 - val_loss: 0.5896 - val_accuracy: 0.7067\n",
            "Epoch 4/50\n",
            "6/6 [==============================] - 2s 410ms/step - loss: 0.6137 - accuracy: 0.6968 - val_loss: 0.5219 - val_accuracy: 0.8533\n",
            "Epoch 5/50\n",
            "6/6 [==============================] - 2s 416ms/step - loss: 0.5913 - accuracy: 0.7128 - val_loss: 0.4873 - val_accuracy: 0.8800\n",
            "Epoch 6/50\n",
            "6/6 [==============================] - 2s 406ms/step - loss: 0.5872 - accuracy: 0.7128 - val_loss: 0.4555 - val_accuracy: 0.8400\n",
            "Epoch 7/50\n",
            "6/6 [==============================] - 2s 414ms/step - loss: 0.5680 - accuracy: 0.7340 - val_loss: 0.4427 - val_accuracy: 0.8800\n",
            "Epoch 8/50\n",
            "6/6 [==============================] - 2s 396ms/step - loss: 0.5431 - accuracy: 0.7287 - val_loss: 0.4263 - val_accuracy: 0.8133\n",
            "Epoch 9/50\n",
            "6/6 [==============================] - 3s 417ms/step - loss: 0.5242 - accuracy: 0.7394 - val_loss: 0.4060 - val_accuracy: 0.8133\n",
            "Epoch 10/50\n",
            "6/6 [==============================] - 2s 411ms/step - loss: 0.5430 - accuracy: 0.7394 - val_loss: 0.4171 - val_accuracy: 0.8667\n",
            "Epoch 11/50\n",
            "6/6 [==============================] - 2s 404ms/step - loss: 0.5239 - accuracy: 0.7500 - val_loss: 0.4217 - val_accuracy: 0.8400\n",
            "Epoch 12/50\n",
            "6/6 [==============================] - 2s 409ms/step - loss: 0.5117 - accuracy: 0.7340 - val_loss: 0.5355 - val_accuracy: 0.6933\n",
            "Epoch 13/50\n",
            "6/6 [==============================] - 2s 410ms/step - loss: 0.4984 - accuracy: 0.7819 - val_loss: 0.4360 - val_accuracy: 0.7867\n",
            "Epoch 14/50\n",
            "6/6 [==============================] - 2s 409ms/step - loss: 0.4986 - accuracy: 0.7394 - val_loss: 0.5466 - val_accuracy: 0.6933\n",
            "Epoch 15/50\n",
            "6/6 [==============================] - 2s 408ms/step - loss: 0.4830 - accuracy: 0.7926 - val_loss: 0.4092 - val_accuracy: 0.8133\n",
            "Epoch 16/50\n",
            "6/6 [==============================] - 2s 407ms/step - loss: 0.4653 - accuracy: 0.7606 - val_loss: 0.4586 - val_accuracy: 0.7467\n",
            "Epoch 17/50\n",
            "6/6 [==============================] - 2s 401ms/step - loss: 0.4032 - accuracy: 0.8457 - val_loss: 0.4028 - val_accuracy: 0.7733\n",
            "Epoch 18/50\n",
            "6/6 [==============================] - 2s 408ms/step - loss: 0.4054 - accuracy: 0.8511 - val_loss: 0.3668 - val_accuracy: 0.8267\n",
            "Epoch 19/50\n",
            "6/6 [==============================] - 2s 409ms/step - loss: 0.4238 - accuracy: 0.8138 - val_loss: 0.5086 - val_accuracy: 0.7733\n",
            "Epoch 20/50\n",
            "6/6 [==============================] - 2s 404ms/step - loss: 0.3784 - accuracy: 0.8670 - val_loss: 0.3784 - val_accuracy: 0.8133\n",
            "Epoch 21/50\n",
            "6/6 [==============================] - 2s 410ms/step - loss: 0.3712 - accuracy: 0.8404 - val_loss: 0.5514 - val_accuracy: 0.7467\n",
            "Epoch 22/50\n",
            "6/6 [==============================] - 2s 411ms/step - loss: 0.3356 - accuracy: 0.8670 - val_loss: 0.3853 - val_accuracy: 0.8667\n",
            "Epoch 23/50\n",
            "6/6 [==============================] - 2s 405ms/step - loss: 0.3343 - accuracy: 0.8883 - val_loss: 0.3455 - val_accuracy: 0.8533\n",
            "Epoch 24/50\n",
            "6/6 [==============================] - 2s 407ms/step - loss: 0.3300 - accuracy: 0.8830 - val_loss: 0.3532 - val_accuracy: 0.9067\n",
            "Epoch 25/50\n",
            "6/6 [==============================] - 2s 408ms/step - loss: 0.3363 - accuracy: 0.8511 - val_loss: 0.5113 - val_accuracy: 0.8000\n",
            "Epoch 26/50\n",
            "6/6 [==============================] - 2s 401ms/step - loss: 0.3412 - accuracy: 0.8670 - val_loss: 0.4580 - val_accuracy: 0.8267\n",
            "Epoch 27/50\n",
            "6/6 [==============================] - 2s 407ms/step - loss: 0.2933 - accuracy: 0.8830 - val_loss: 0.4820 - val_accuracy: 0.8133\n",
            "Epoch 28/50\n",
            "6/6 [==============================] - 2s 410ms/step - loss: 0.3307 - accuracy: 0.8511 - val_loss: 0.4829 - val_accuracy: 0.8133\n",
            "Epoch 29/50\n",
            "6/6 [==============================] - 2s 401ms/step - loss: 0.3068 - accuracy: 0.8777 - val_loss: 0.5839 - val_accuracy: 0.6933\n",
            "Epoch 30/50\n",
            "6/6 [==============================] - 2s 407ms/step - loss: 0.3105 - accuracy: 0.8883 - val_loss: 0.5089 - val_accuracy: 0.7733\n",
            "Epoch 31/50\n",
            "6/6 [==============================] - 2s 413ms/step - loss: 0.2855 - accuracy: 0.8670 - val_loss: 0.4980 - val_accuracy: 0.7867\n",
            "Epoch 32/50\n",
            "6/6 [==============================] - 2s 411ms/step - loss: 0.2417 - accuracy: 0.9043 - val_loss: 0.6783 - val_accuracy: 0.7467\n",
            "Epoch 33/50\n",
            "6/6 [==============================] - 2s 414ms/step - loss: 0.2648 - accuracy: 0.8989 - val_loss: 0.3838 - val_accuracy: 0.8667\n",
            "Epoch 34/50\n",
            "6/6 [==============================] - 2s 407ms/step - loss: 0.2446 - accuracy: 0.8883 - val_loss: 0.3830 - val_accuracy: 0.8533\n",
            "Epoch 35/50\n",
            "6/6 [==============================] - 2s 415ms/step - loss: 0.2768 - accuracy: 0.8936 - val_loss: 0.4087 - val_accuracy: 0.8533\n",
            "Epoch 36/50\n",
            "6/6 [==============================] - 2s 407ms/step - loss: 0.2999 - accuracy: 0.8777 - val_loss: 0.6768 - val_accuracy: 0.7467\n",
            "Epoch 37/50\n",
            "6/6 [==============================] - 2s 405ms/step - loss: 0.2300 - accuracy: 0.9255 - val_loss: 0.4456 - val_accuracy: 0.8267\n",
            "Epoch 38/50\n",
            "6/6 [==============================] - 2s 398ms/step - loss: 0.2821 - accuracy: 0.9043 - val_loss: 0.5020 - val_accuracy: 0.8133\n",
            "Epoch 39/50\n",
            "6/6 [==============================] - 2s 399ms/step - loss: 0.2041 - accuracy: 0.9149 - val_loss: 0.4915 - val_accuracy: 0.8133\n",
            "Epoch 40/50\n",
            "6/6 [==============================] - 2s 403ms/step - loss: 0.2314 - accuracy: 0.9309 - val_loss: 0.5427 - val_accuracy: 0.8000\n",
            "Epoch 41/50\n",
            "6/6 [==============================] - 2s 408ms/step - loss: 0.1866 - accuracy: 0.9362 - val_loss: 0.4019 - val_accuracy: 0.8267\n",
            "Epoch 42/50\n",
            "6/6 [==============================] - 3s 417ms/step - loss: 0.2115 - accuracy: 0.9149 - val_loss: 0.3509 - val_accuracy: 0.8800\n",
            "Epoch 43/50\n",
            "6/6 [==============================] - 2s 409ms/step - loss: 0.1931 - accuracy: 0.9149 - val_loss: 0.5101 - val_accuracy: 0.8267\n",
            "Epoch 44/50\n",
            "6/6 [==============================] - 2s 401ms/step - loss: 0.1688 - accuracy: 0.9309 - val_loss: 0.5996 - val_accuracy: 0.8000\n",
            "Epoch 45/50\n",
            "6/6 [==============================] - 2s 399ms/step - loss: 0.1981 - accuracy: 0.9415 - val_loss: 0.7737 - val_accuracy: 0.7600\n",
            "Epoch 46/50\n",
            "6/6 [==============================] - 2s 402ms/step - loss: 0.1639 - accuracy: 0.9415 - val_loss: 0.4683 - val_accuracy: 0.8267\n",
            "Epoch 47/50\n",
            "6/6 [==============================] - 2s 411ms/step - loss: 0.2072 - accuracy: 0.9096 - val_loss: 0.4303 - val_accuracy: 0.8667\n",
            "Epoch 48/50\n",
            "6/6 [==============================] - 2s 405ms/step - loss: 0.2004 - accuracy: 0.9362 - val_loss: 0.4754 - val_accuracy: 0.8400\n",
            "Epoch 49/50\n",
            "6/6 [==============================] - 2s 402ms/step - loss: 0.1853 - accuracy: 0.9415 - val_loss: 0.5963 - val_accuracy: 0.8000\n",
            "Epoch 50/50\n",
            "6/6 [==============================] - 2s 408ms/step - loss: 0.1640 - accuracy: 0.9309 - val_loss: 0.5028 - val_accuracy: 0.8400\n"
          ],
          "name": "stdout"
        }
      ]
    },
    {
      "cell_type": "code",
      "metadata": {
        "id": "0MCgDb2ONP5C",
        "colab_type": "code",
        "colab": {
          "base_uri": "https://localhost:8080/",
          "height": 533
        },
        "outputId": "2152b575-5c2e-46bb-e60d-bf392ec95ec4"
      },
      "source": [
        "# plot the loss\n",
        "plt.plot(r.history['loss'], label='train loss')\n",
        "plt.plot(r.history['val_loss'], label='val loss')\n",
        "plt.legend()\n",
        "plt.show()\n",
        "plt.savefig('LossVal_loss')\n",
        "\n",
        "# plot the accuracy\n",
        "plt.plot(r.history['accuracy'], label='train acc')\n",
        "plt.plot(r.history['val_accuracy'], label='val acc')\n",
        "plt.legend()\n",
        "plt.show()\n",
        "plt.savefig('AccVal_acc')"
      ],
      "execution_count": 21,
      "outputs": [
        {
          "output_type": "display_data",
          "data": {
            "image/png": "[encoded data removed]",
            "text/plain": [
              "<Figure size 432x288 with 1 Axes>"
            ]
          },
          "metadata": {
            "tags": [],
            "needs_background": "light"
          }
        },
        {
          "output_type": "display_data",
          "data": {
            "image/png": "[encoded data removed]",
            "text/plain": [
              "<Figure size 432x288 with 1 Axes>"
            ]
          },
          "metadata": {
            "tags": [],
            "needs_background": "light"
          }
        },
        {
          "output_type": "display_data",
          "data": {
            "text/plain": [
              "<Figure size 432x288 with 0 Axes>"
            ]
          },
          "metadata": {
            "tags": []
          }
        }
      ]
    },
    {
      "cell_type": "code",
      "metadata": {
        "id": "8H0wahhRU_wA",
        "colab_type": "code",
        "colab": {}
      },
      "source": [
        "# saving it as a h5 file\n",
        "\n",
        "\n",
        "from tensorflow.keras.models import load_model\n",
        "\n",
        "model.save('model_vgg19.h5')"
      ],
      "execution_count": 22,
      "outputs": []
    },
    {
      "cell_type": "code",
      "metadata": {
        "id": "TxzZpbdWMyiV",
        "colab_type": "code",
        "colab": {
          "base_uri": "https://localhost:8080/",
          "height": 17
        },
        "outputId": "83c71d09-11c7-446a-de03-b88ca0f1be8a"
      },
      "source": [
        "# #downloading the model\n",
        "from google.colab import files\n",
        "files.download(\"model_vgg19.h5\")"
      ],
      "execution_count": 23,
      "outputs": [
        {
          "output_type": "display_data",
          "data": {
            "application/javascript": [
              "\n",
              "    async function download(id, filename, size) {\n",
              "      if (!google.colab.kernel.accessAllowed) {\n",
              "        return;\n",
              "      }\n",
              "      const div = document.createElement('div');\n",
              "      const label = document.createElement('label');\n",
              "      label.textContent = `Downloading \"${filename}\": `;\n",
              "      div.appendChild(label);\n",
              "      const progress = document.createElement('progress');\n",
              "      progress.max = size;\n",
              "      div.appendChild(progress);\n",
              "      document.body.appendChild(div);\n",
              "\n",
              "      const buffers = [];\n",
              "      let downloaded = 0;\n",
              "\n",
              "      const channel = await google.colab.kernel.comms.open(id);\n",
              "      // Send a message to notify the kernel that we're ready.\n",
              "      channel.send({})\n",
              "\n",
              "      for await (const message of channel.messages) {\n",
              "        // Send a message to notify the kernel that we're ready.\n",
              "        channel.send({})\n",
              "        if (message.buffers) {\n",
              "          for (const buffer of message.buffers) {\n",
              "            buffers.push(buffer);\n",
              "            downloaded += buffer.byteLength;\n",
              "            progress.value = downloaded;\n",
              "          }\n",
              "        }\n",
              "      }\n",
              "      const blob = new Blob(buffers, {type: 'application/binary'});\n",
              "      const a = document.createElement('a');\n",
              "      a.href = window.URL.createObjectURL(blob);\n",
              "      a.download = filename;\n",
              "      div.appendChild(a);\n",
              "      a.click();\n",
              "      div.remove();\n",
              "    }\n",
              "  "
            ],
            "text/plain": [
              "<IPython.core.display.Javascript object>"
            ]
          },
          "metadata": {
            "tags": []
          }
        },
        {
          "output_type": "display_data",
          "data": {
            "application/javascript": [
              "download(\"download_c5a6e6cc-2fd7-4238-a8f9-241e139ae28d\", \"model_vgg19.h5\", 301250104)"
            ],
            "text/plain": [
              "<IPython.core.display.Javascript object>"
            ]
          },
          "metadata": {
            "tags": []
          }
        }
      ]
    },
    {
      "cell_type": "code",
      "metadata": {
        "id": "sK0Jg0vSRLWV",
        "colab_type": "code",
        "colab": {}
      },
      "source": [
        "y_pred = model.predict(test_set)"
      ],
      "execution_count": 24,
      "outputs": []
    },
    {
      "cell_type": "code",
      "metadata": {
        "id": "nDhOhO1PZhxJ",
        "colab_type": "code",
        "colab": {
          "base_uri": "https://localhost:8080/",
          "height": 1000
        },
        "outputId": "9c8e5f3d-465b-4793-f9d5-fdfd8047beff"
      },
      "source": [
        "y_pred"
      ],
      "execution_count": 25,
      "outputs": [
        {
          "output_type": "execute_result",
          "data": {
            "text/plain": [
              "array([[9.86191869e-01, 1.38081759e-02],\n",
              "       [9.44377303e-01, 5.56227192e-02],\n",
              "       [2.82449275e-01, 7.17550695e-01],\n",
              "       [9.65195537e-01, 3.48044597e-02],\n",
              "       [9.84591007e-01, 1.54089611e-02],\n",
              "       [7.05222553e-03, 9.92947698e-01],\n",
              "       [1.97444670e-03, 9.98025537e-01],\n",
              "       [7.42048398e-03, 9.92579520e-01],\n",
              "       [9.97237563e-01, 2.76247063e-03],\n",
              "       [3.37144639e-03, 9.96628582e-01],\n",
              "       [5.12578571e-03, 9.94874179e-01],\n",
              "       [1.86342329e-01, 8.13657701e-01],\n",
              "       [9.66863155e-01, 3.31369080e-02],\n",
              "       [4.78370607e-01, 5.21629393e-01],\n",
              "       [1.49024220e-03, 9.98509705e-01],\n",
              "       [4.36798722e-01, 5.63201249e-01],\n",
              "       [9.60340381e-01, 3.96595411e-02],\n",
              "       [5.62456787e-01, 4.37543154e-01],\n",
              "       [9.99925494e-01, 7.45395228e-05],\n",
              "       [9.99302983e-01, 6.96961477e-04],\n",
              "       [3.43738175e-05, 9.99965668e-01],\n",
              "       [3.75316739e-01, 6.24683261e-01],\n",
              "       [4.08234634e-02, 9.59176540e-01],\n",
              "       [9.99068916e-01, 9.31079965e-04],\n",
              "       [3.75344828e-02, 9.62465525e-01],\n",
              "       [9.96890843e-01, 3.10917827e-03],\n",
              "       [3.95966768e-02, 9.60403323e-01],\n",
              "       [9.99990225e-01, 9.79145352e-06],\n",
              "       [9.34468806e-01, 6.55311495e-02],\n",
              "       [4.94314760e-01, 5.05685210e-01],\n",
              "       [9.98752594e-01, 1.24736666e-03],\n",
              "       [8.69769871e-01, 1.30230114e-01],\n",
              "       [3.41178961e-02, 9.65882123e-01],\n",
              "       [1.00000000e+00, 3.40322007e-11],\n",
              "       [9.07013595e-01, 9.29863974e-02],\n",
              "       [8.43897581e-01, 1.56102389e-01],\n",
              "       [4.65388468e-04, 9.99534607e-01],\n",
              "       [4.10231156e-03, 9.95897710e-01],\n",
              "       [1.79908037e-01, 8.20091903e-01],\n",
              "       [8.66986532e-03, 9.91330147e-01],\n",
              "       [6.21307269e-03, 9.93786931e-01],\n",
              "       [9.76769486e-04, 9.99023199e-01],\n",
              "       [9.81452644e-01, 1.85473841e-02],\n",
              "       [9.99999881e-01, 1.03222774e-07],\n",
              "       [9.56404626e-01, 4.35953178e-02],\n",
              "       [1.04893655e-01, 8.95106316e-01],\n",
              "       [1.67771652e-02, 9.83222783e-01],\n",
              "       [1.23970926e-01, 8.76029074e-01],\n",
              "       [9.90652800e-01, 9.34720971e-03],\n",
              "       [9.96938229e-01, 3.06180376e-03],\n",
              "       [1.27073117e-02, 9.87292647e-01],\n",
              "       [1.95288798e-03, 9.98047113e-01],\n",
              "       [4.44520302e-02, 9.55548048e-01],\n",
              "       [7.04091713e-02, 9.29590821e-01],\n",
              "       [9.99876738e-01, 1.23289676e-04],\n",
              "       [9.99371946e-01, 6.28071895e-04],\n",
              "       [2.93152127e-02, 9.70684767e-01],\n",
              "       [5.23750663e-01, 4.76249337e-01],\n",
              "       [9.99917865e-01, 8.21434442e-05],\n",
              "       [9.97237563e-01, 2.76247063e-03],\n",
              "       [9.51939166e-01, 4.80608642e-02],\n",
              "       [4.51081455e-01, 5.48918545e-01],\n",
              "       [1.66491214e-02, 9.83350813e-01],\n",
              "       [4.04631672e-03, 9.95953679e-01],\n",
              "       [6.44153042e-05, 9.99935627e-01],\n",
              "       [9.78051722e-01, 2.19482388e-02],\n",
              "       [9.99736011e-01, 2.63927388e-04],\n",
              "       [1.99829997e-03, 9.98001635e-01],\n",
              "       [6.93186820e-01, 3.06813180e-01],\n",
              "       [9.99010801e-01, 9.89230000e-04],\n",
              "       [5.15077561e-02, 9.48492289e-01],\n",
              "       [3.99070606e-02, 9.60092962e-01],\n",
              "       [9.99736011e-01, 2.63927388e-04],\n",
              "       [9.70027626e-01, 2.99723390e-02],\n",
              "       [1.80597395e-01, 8.19402635e-01]], dtype=float32)"
            ]
          },
          "metadata": {
            "tags": []
          },
          "execution_count": 25
        }
      ]
    },
    {
      "cell_type": "code",
      "metadata": {
        "id": "F26q_1obZkXL",
        "colab_type": "code",
        "colab": {}
      },
      "source": [
        "import numpy as np\n",
        "y_pred = np.argmax(y_pred, axis=1)"
      ],
      "execution_count": 26,
      "outputs": []
    },
    {
      "cell_type": "code",
      "metadata": {
        "id": "Z-D9pZXxZuRB",
        "colab_type": "code",
        "colab": {
          "base_uri": "https://localhost:8080/",
          "height": 85
        },
        "outputId": "6c527aed-67ba-4a6e-da34-9f79c3ccb949"
      },
      "source": [
        "y_pred"
      ],
      "execution_count": 27,
      "outputs": [
        {
          "output_type": "execute_result",
          "data": {
            "text/plain": [
              "array([0, 0, 1, 0, 0, 1, 1, 1, 0, 1, 1, 1, 0, 1, 1, 1, 0, 0, 0, 0, 1, 1,\n",
              "       1, 0, 1, 0, 1, 0, 0, 1, 0, 0, 1, 0, 0, 0, 1, 1, 1, 1, 1, 1, 0, 0,\n",
              "       0, 1, 1, 1, 0, 0, 1, 1, 1, 1, 0, 0, 1, 0, 0, 0, 0, 1, 1, 1, 1, 0,\n",
              "       0, 1, 0, 0, 1, 1, 0, 0, 1])"
            ]
          },
          "metadata": {
            "tags": []
          },
          "execution_count": 27
        }
      ]
    },
    {
      "cell_type": "code",
      "metadata": {
        "id": "0uI3Z57SZyUt",
        "colab_type": "code",
        "colab": {}
      },
      "source": [
        "from tensorflow.keras.models import load_model\n",
        "from tensorflow.keras.preprocessing import image"
      ],
      "execution_count": 28,
      "outputs": []
    },
    {
      "cell_type": "code",
      "metadata": {
        "id": "RepFSk0f--EN",
        "colab_type": "code",
        "colab": {}
      },
      "source": [
        "model=load_model('model_vgg19.h5')"
      ],
      "execution_count": 37,
      "outputs": []
    },
    {
      "cell_type": "code",
      "metadata": {
        "id": "RDF4CP9vZ6e5",
        "colab_type": "code",
        "colab": {}
      },
      "source": [
        "img=image.load_img('/content/drive/My Drive/MTech/final_dataset/for_testing/non_tumor/3 no.jpg',target_size=(224,224))"
      ],
      "execution_count": 38,
      "outputs": []
    },
    {
      "cell_type": "code",
      "metadata": {
        "id": "4aeD_rw5aJJi",
        "colab_type": "code",
        "colab": {
          "base_uri": "https://localhost:8080/",
          "height": 850
        },
        "outputId": "4872b28b-c548-474c-80de-9ee4730dba79"
      },
      "source": [
        "x=image.img_to_array(img)\n",
        "x"
      ],
      "execution_count": 39,
      "outputs": [
        {
          "output_type": "execute_result",
          "data": {
            "text/plain": [
              "array([[[0., 0., 0.],\n",
              "        [0., 0., 0.],\n",
              "        [0., 0., 0.],\n",
              "        ...,\n",
              "        [0., 0., 0.],\n",
              "        [0., 0., 0.],\n",
              "        [0., 0., 0.]],\n",
              "\n",
              "       [[0., 0., 0.],\n",
              "        [0., 0., 0.],\n",
              "        [0., 0., 0.],\n",
              "        ...,\n",
              "        [0., 0., 0.],\n",
              "        [0., 0., 0.],\n",
              "        [0., 0., 0.]],\n",
              "\n",
              "       [[0., 0., 0.],\n",
              "        [0., 0., 0.],\n",
              "        [0., 0., 0.],\n",
              "        ...,\n",
              "        [0., 0., 0.],\n",
              "        [0., 0., 0.],\n",
              "        [0., 0., 0.]],\n",
              "\n",
              "       ...,\n",
              "\n",
              "       [[0., 0., 0.],\n",
              "        [0., 0., 0.],\n",
              "        [0., 0., 0.],\n",
              "        ...,\n",
              "        [0., 0., 0.],\n",
              "        [0., 0., 0.],\n",
              "        [0., 0., 0.]],\n",
              "\n",
              "       [[0., 0., 0.],\n",
              "        [0., 0., 0.],\n",
              "        [0., 0., 0.],\n",
              "        ...,\n",
              "        [0., 0., 0.],\n",
              "        [0., 0., 0.],\n",
              "        [0., 0., 0.]],\n",
              "\n",
              "       [[0., 0., 0.],\n",
              "        [0., 0., 0.],\n",
              "        [0., 0., 0.],\n",
              "        ...,\n",
              "        [0., 0., 0.],\n",
              "        [0., 0., 0.],\n",
              "        [0., 0., 0.]]], dtype=float32)"
            ]
          },
          "metadata": {
            "tags": []
          },
          "execution_count": 39
        }
      ]
    },
    {
      "cell_type": "code",
      "metadata": {
        "id": "Y57er2A4aNuW",
        "colab_type": "code",
        "colab": {
          "base_uri": "https://localhost:8080/",
          "height": 34
        },
        "outputId": "5c7f7083-f4ae-4d82-a9bc-53639e5d9c8d"
      },
      "source": [
        "x.shape"
      ],
      "execution_count": 40,
      "outputs": [
        {
          "output_type": "execute_result",
          "data": {
            "text/plain": [
              "(224, 224, 3)"
            ]
          },
          "metadata": {
            "tags": []
          },
          "execution_count": 40
        }
      ]
    },
    {
      "cell_type": "code",
      "metadata": {
        "id": "zeoRwSuvaQkn",
        "colab_type": "code",
        "colab": {}
      },
      "source": [
        "x=x/255"
      ],
      "execution_count": 41,
      "outputs": []
    },
    {
      "cell_type": "code",
      "metadata": {
        "id": "6F_wwZ7raTAc",
        "colab_type": "code",
        "colab": {
          "base_uri": "https://localhost:8080/",
          "height": 34
        },
        "outputId": "388aa8f7-e743-47ac-d99a-7ee52c5b02a0"
      },
      "source": [
        "x=np.expand_dims(x,axis=0)\n",
        "img_data=preprocess_input(x)\n",
        "img_data.shape"
      ],
      "execution_count": 42,
      "outputs": [
        {
          "output_type": "execute_result",
          "data": {
            "text/plain": [
              "(1, 224, 224, 3)"
            ]
          },
          "metadata": {
            "tags": []
          },
          "execution_count": 42
        }
      ]
    },
    {
      "cell_type": "code",
      "metadata": {
        "id": "Q0JSZOj1aWo-",
        "colab_type": "code",
        "colab": {
          "base_uri": "https://localhost:8080/",
          "height": 34
        },
        "outputId": "9f4b090a-bc51-466f-c06f-8a76ee1449d4"
      },
      "source": [
        "model.predict(x)"
      ],
      "execution_count": 43,
      "outputs": [
        {
          "output_type": "execute_result",
          "data": {
            "text/plain": [
              "array([[1., 0.]], dtype=float32)"
            ]
          },
          "metadata": {
            "tags": []
          },
          "execution_count": 43
        }
      ]
    },
    {
      "cell_type": "code",
      "metadata": {
        "id": "ZxRN-S-faaE0",
        "colab_type": "code",
        "colab": {}
      },
      "source": [
        "a=np.argmax(model.predict(img_data), axis=1)"
      ],
      "execution_count": 44,
      "outputs": []
    },
    {
      "cell_type": "code",
      "metadata": {
        "id": "DoiZeaOubQL8",
        "colab_type": "code",
        "colab": {
          "base_uri": "https://localhost:8080/",
          "height": 34
        },
        "outputId": "0bc933bd-4dcc-4a55-d7d1-b22b6f68451f"
      },
      "source": [
        "print(a)"
      ],
      "execution_count": 45,
      "outputs": [
        {
          "output_type": "stream",
          "text": [
            "[1]\n"
          ],
          "name": "stdout"
        }
      ]
    },
    {
      "cell_type": "code",
      "metadata": {
        "id": "_4isnfrsbDvE",
        "colab_type": "code",
        "colab": {
          "base_uri": "https://localhost:8080/",
          "height": 34
        },
        "outputId": "89847d41-b26c-43d5-e786-21595ebc1141"
      },
      "source": [
        "if(a==1):\n",
        "    print(\"Non_tumor\")\n",
        "else:\n",
        "    print(\"Tumor\")"
      ],
      "execution_count": 46,
      "outputs": [
        {
          "output_type": "stream",
          "text": [
            "Non_tumor\n"
          ],
          "name": "stdout"
        }
      ]
    },
    {
      "cell_type": "code",
      "metadata": {
        "id": "AUC_lN2obMLW",
        "colab_type": "code",
        "colab": {}
      },
      "source": [
        ""
      ],
      "execution_count": null,
      "outputs": []
    },
    {
      "cell_type": "code",
      "metadata": {
        "id": "rjSOKan-f6TF",
        "colab_type": "code",
        "colab": {}
      },
      "source": [
        ""
      ],
      "execution_count": null,
      "outputs": []
    }
  ]
}