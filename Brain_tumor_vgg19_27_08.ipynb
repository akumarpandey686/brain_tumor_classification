{
  "nbformat": 4,
  "nbformat_minor": 0,
  "metadata": {
    "colab": {
      "name": "Brain_tumor_vgg.ipynb",
      "provenance": [],
      "mount_file_id": "1yydq-Z8AqEq1uSWORUtqNdTZ8oC00WMV",
      "authorship_tag": "ABX9TyOv/+O0F1ADEFTw+QMyfJir",
      "include_colab_link": true
    },
    "kernelspec": {
      "name": "python3",
      "display_name": "Python 3"
    },
    "accelerator": "GPU"
  },
  "cells": [
    {
      "cell_type": "markdown",
      "metadata": {
        "id": "view-in-github",
        "colab_type": "text"
      },
      "source": [
        "<a href=\"https://colab.research.google.com/github/akumarpandey686/brain_tumor_classification/blob/master/Brain_tumor_vgg19_27_08.ipynb\" target=\"_parent\"><img src=\"https://colab.research.google.com/assets/colab-badge.svg\" alt=\"Open In Colab\"/></a>"
      ]
    },
    {
      "cell_type": "code",
      "metadata": {
        "id": "H9x_2GvV7Eym",
        "colab_type": "code",
        "colab": {}
      },
      "source": [
        "\n",
        "# import the libraries as shown below\n",
        "\n",
        "from tensorflow.keras.layers import Input, Lambda, Dense, Flatten,Conv2D\n",
        "from tensorflow.keras.models import Model\n",
        "from tensorflow.keras.applications.vgg19 import VGG19\n",
        "from tensorflow.keras.applications.resnet50 import preprocess_input\n",
        "from tensorflow.keras.preprocessing import image\n",
        "from tensorflow.keras.preprocessing.image import ImageDataGenerator,load_img\n",
        "from tensorflow.keras.models import Sequential\n",
        "import numpy as np\n",
        "from glob import glob\n",
        "import matplotlib.pyplot as plt"
      ],
      "execution_count": null,
      "outputs": []
    },
    {
      "cell_type": "code",
      "metadata": {
        "id": "pLosOXyj86Yv",
        "colab_type": "code",
        "colab": {}
      },
      "source": [
        "# Re-size all the images to this\n",
        "IMAGE_SIZE = [224, 224]\n",
        "\n",
        "train_path = '/content/drive/My Drive/MTech/final_dataset/train'\n",
        "valid_path = '/content/drive/My Drive/MTech/final_dataset/test'"
      ],
      "execution_count": null,
      "outputs": []
    },
    {
      "cell_type": "code",
      "metadata": {
        "id": "RANOh4ZN9K37",
        "colab_type": "code",
        "colab": {
          "base_uri": "https://localhost:8080/",
          "height": 51
        },
        "outputId": "17f277be-fc2f-4bc9-e70b-a52873ce4d82"
      },
      "source": [
        "# Import the Vgg 16 library as shown below and add preprocessing layer to the front of VGG\n",
        "# We are using imagenet weights\n",
        "\n",
        "vgg = VGG19(input_shape=IMAGE_SIZE + [3], weights='imagenet', include_top=False)"
      ],
      "execution_count": null,
      "outputs": [
        {
          "output_type": "stream",
          "text": [
            "Downloading data from https://storage.googleapis.com/tensorflow/keras-applications/vgg19/vgg19_weights_tf_dim_ordering_tf_kernels_notop.h5\n",
            "80142336/80134624 [==============================] - 3s 0us/step\n"
          ],
          "name": "stdout"
        }
      ]
    },
    {
      "cell_type": "code",
      "metadata": {
        "id": "pc6AC3RFjcGP",
        "colab_type": "code",
        "colab": {
          "base_uri": "https://localhost:8080/",
          "height": 901
        },
        "outputId": "2dfabf13-0eb6-4b86-b8ab-450c8f4340ef"
      },
      "source": [
        "vgg.summary()"
      ],
      "execution_count": null,
      "outputs": [
        {
          "output_type": "stream",
          "text": [
            "Model: \"vgg19\"\n",
            "_________________________________________________________________\n",
            "Layer (type)                 Output Shape              Param #   \n",
            "=================================================================\n",
            "input_1 (InputLayer)         [(None, 224, 224, 3)]     0         \n",
            "_________________________________________________________________\n",
            "block1_conv1 (Conv2D)        (None, 224, 224, 64)      1792      \n",
            "_________________________________________________________________\n",
            "block1_conv2 (Conv2D)        (None, 224, 224, 64)      36928     \n",
            "_________________________________________________________________\n",
            "block1_pool (MaxPooling2D)   (None, 112, 112, 64)      0         \n",
            "_________________________________________________________________\n",
            "block2_conv1 (Conv2D)        (None, 112, 112, 128)     73856     \n",
            "_________________________________________________________________\n",
            "block2_conv2 (Conv2D)        (None, 112, 112, 128)     147584    \n",
            "_________________________________________________________________\n",
            "block2_pool (MaxPooling2D)   (None, 56, 56, 128)       0         \n",
            "_________________________________________________________________\n",
            "block3_conv1 (Conv2D)        (None, 56, 56, 256)       295168    \n",
            "_________________________________________________________________\n",
            "block3_conv2 (Conv2D)        (None, 56, 56, 256)       590080    \n",
            "_________________________________________________________________\n",
            "block3_conv3 (Conv2D)        (None, 56, 56, 256)       590080    \n",
            "_________________________________________________________________\n",
            "block3_conv4 (Conv2D)        (None, 56, 56, 256)       590080    \n",
            "_________________________________________________________________\n",
            "block3_pool (MaxPooling2D)   (None, 28, 28, 256)       0         \n",
            "_________________________________________________________________\n",
            "block4_conv1 (Conv2D)        (None, 28, 28, 512)       1180160   \n",
            "_________________________________________________________________\n",
            "block4_conv2 (Conv2D)        (None, 28, 28, 512)       2359808   \n",
            "_________________________________________________________________\n",
            "block4_conv3 (Conv2D)        (None, 28, 28, 512)       2359808   \n",
            "_________________________________________________________________\n",
            "block4_conv4 (Conv2D)        (None, 28, 28, 512)       2359808   \n",
            "_________________________________________________________________\n",
            "block4_pool (MaxPooling2D)   (None, 14, 14, 512)       0         \n",
            "_________________________________________________________________\n",
            "block5_conv1 (Conv2D)        (None, 14, 14, 512)       2359808   \n",
            "_________________________________________________________________\n",
            "block5_conv2 (Conv2D)        (None, 14, 14, 512)       2359808   \n",
            "_________________________________________________________________\n",
            "block5_conv3 (Conv2D)        (None, 14, 14, 512)       2359808   \n",
            "_________________________________________________________________\n",
            "block5_conv4 (Conv2D)        (None, 14, 14, 512)       2359808   \n",
            "_________________________________________________________________\n",
            "block5_pool (MaxPooling2D)   (None, 7, 7, 512)         0         \n",
            "=================================================================\n",
            "Total params: 20,024,384\n",
            "Trainable params: 20,024,384\n",
            "Non-trainable params: 0\n",
            "_________________________________________________________________\n"
          ],
          "name": "stdout"
        }
      ]
    },
    {
      "cell_type": "code",
      "metadata": {
        "id": "aFj1HtRq9qBN",
        "colab_type": "code",
        "colab": {}
      },
      "source": [
        "# don't train existing weights\n",
        "for layer in vgg.layers:\n",
        "    layer.trainable = False"
      ],
      "execution_count": null,
      "outputs": []
    },
    {
      "cell_type": "code",
      "metadata": {
        "id": "JL_7K8RS9_gC",
        "colab_type": "code",
        "colab": {}
      },
      "source": [
        "# useful for getting number of output classes\n",
        "folders = glob('/content/drive/My Drive/MTech/final_dataset/train/*')"
      ],
      "execution_count": null,
      "outputs": []
    },
    {
      "cell_type": "code",
      "metadata": {
        "id": "j6r43eL8-CU9",
        "colab_type": "code",
        "colab": {
          "base_uri": "https://localhost:8080/",
          "height": 51
        },
        "outputId": "1b9655bc-60b9-4565-813b-e7a5a136bcf1"
      },
      "source": [
        "folders"
      ],
      "execution_count": null,
      "outputs": [
        {
          "output_type": "execute_result",
          "data": {
            "text/plain": [
              "['/content/drive/My Drive/MTech/final_dataset/train/tumor',\n",
              " '/content/drive/My Drive/MTech/final_dataset/train/non_tumor']"
            ]
          },
          "metadata": {
            "tags": []
          },
          "execution_count": 7
        }
      ]
    },
    {
      "cell_type": "code",
      "metadata": {
        "id": "g6Fly2hU-GMQ",
        "colab_type": "code",
        "colab": {}
      },
      "source": [
        "# our layers - you can add more if you want\n",
        "x = Flatten()(vgg.output)"
      ],
      "execution_count": null,
      "outputs": []
    },
    {
      "cell_type": "code",
      "metadata": {
        "id": "0Z4seBIB-JQB",
        "colab_type": "code",
        "colab": {}
      },
      "source": [
        "prediction = Dense(len(folders), activation='softmax')(x)\n",
        "\n",
        "# create a model object\n",
        "model = Model(inputs=vgg.input, outputs=prediction)"
      ],
      "execution_count": null,
      "outputs": []
    },
    {
      "cell_type": "code",
      "metadata": {
        "id": "OVOiRiNz-Mwj",
        "colab_type": "code",
        "colab": {
          "base_uri": "https://localhost:8080/",
          "height": 969
        },
        "outputId": "7cec2757-586c-4425-edab-79d53b3a6821"
      },
      "source": [
        "# view the structure of the model\n",
        "model.summary()"
      ],
      "execution_count": null,
      "outputs": [
        {
          "output_type": "stream",
          "text": [
            "Model: \"model\"\n",
            "_________________________________________________________________\n",
            "Layer (type)                 Output Shape              Param #   \n",
            "=================================================================\n",
            "input_1 (InputLayer)         [(None, 224, 224, 3)]     0         \n",
            "_________________________________________________________________\n",
            "block1_conv1 (Conv2D)        (None, 224, 224, 64)      1792      \n",
            "_________________________________________________________________\n",
            "block1_conv2 (Conv2D)        (None, 224, 224, 64)      36928     \n",
            "_________________________________________________________________\n",
            "block1_pool (MaxPooling2D)   (None, 112, 112, 64)      0         \n",
            "_________________________________________________________________\n",
            "block2_conv1 (Conv2D)        (None, 112, 112, 128)     73856     \n",
            "_________________________________________________________________\n",
            "block2_conv2 (Conv2D)        (None, 112, 112, 128)     147584    \n",
            "_________________________________________________________________\n",
            "block2_pool (MaxPooling2D)   (None, 56, 56, 128)       0         \n",
            "_________________________________________________________________\n",
            "block3_conv1 (Conv2D)        (None, 56, 56, 256)       295168    \n",
            "_________________________________________________________________\n",
            "block3_conv2 (Conv2D)        (None, 56, 56, 256)       590080    \n",
            "_________________________________________________________________\n",
            "block3_conv3 (Conv2D)        (None, 56, 56, 256)       590080    \n",
            "_________________________________________________________________\n",
            "block3_conv4 (Conv2D)        (None, 56, 56, 256)       590080    \n",
            "_________________________________________________________________\n",
            "block3_pool (MaxPooling2D)   (None, 28, 28, 256)       0         \n",
            "_________________________________________________________________\n",
            "block4_conv1 (Conv2D)        (None, 28, 28, 512)       1180160   \n",
            "_________________________________________________________________\n",
            "block4_conv2 (Conv2D)        (None, 28, 28, 512)       2359808   \n",
            "_________________________________________________________________\n",
            "block4_conv3 (Conv2D)        (None, 28, 28, 512)       2359808   \n",
            "_________________________________________________________________\n",
            "block4_conv4 (Conv2D)        (None, 28, 28, 512)       2359808   \n",
            "_________________________________________________________________\n",
            "block4_pool (MaxPooling2D)   (None, 14, 14, 512)       0         \n",
            "_________________________________________________________________\n",
            "block5_conv1 (Conv2D)        (None, 14, 14, 512)       2359808   \n",
            "_________________________________________________________________\n",
            "block5_conv2 (Conv2D)        (None, 14, 14, 512)       2359808   \n",
            "_________________________________________________________________\n",
            "block5_conv3 (Conv2D)        (None, 14, 14, 512)       2359808   \n",
            "_________________________________________________________________\n",
            "block5_conv4 (Conv2D)        (None, 14, 14, 512)       2359808   \n",
            "_________________________________________________________________\n",
            "block5_pool (MaxPooling2D)   (None, 7, 7, 512)         0         \n",
            "_________________________________________________________________\n",
            "flatten (Flatten)            (None, 25088)             0         \n",
            "_________________________________________________________________\n",
            "dense (Dense)                (None, 2)                 50178     \n",
            "=================================================================\n",
            "Total params: 20,074,562\n",
            "Trainable params: 50,178\n",
            "Non-trainable params: 20,024,384\n",
            "_________________________________________________________________\n"
          ],
          "name": "stdout"
        }
      ]
    },
    {
      "cell_type": "code",
      "metadata": {
        "id": "qbUTrl1j_DAo",
        "colab_type": "code",
        "colab": {}
      },
      "source": [
        "from tensorflow.keras.layers import MaxPooling2D"
      ],
      "execution_count": null,
      "outputs": []
    },
    {
      "cell_type": "code",
      "metadata": {
        "id": "BfjfKT8X_IP8",
        "colab_type": "code",
        "colab": {
          "base_uri": "https://localhost:8080/",
          "height": 459
        },
        "outputId": "5efd3632-c937-4fec-892a-ad8318124a98"
      },
      "source": [
        "### Create Model from scratch using CNN\n",
        "model=Sequential()\n",
        "model.add(Conv2D(filters=16,kernel_size=2,padding=\"same\",activation=\"relu\",input_shape=(224,224,3)))\n",
        "model.add(MaxPooling2D(pool_size=2))\n",
        "model.add(Conv2D(filters=32,kernel_size=2,padding=\"same\",activation =\"relu\"))\n",
        "model.add(MaxPooling2D(pool_size=2))\n",
        "model.add(Conv2D(filters=64,kernel_size=2,padding=\"same\",activation=\"relu\"))\n",
        "model.add(MaxPooling2D(pool_size=2))\n",
        "model.add(Flatten())\n",
        "model.add(Dense(500,activation=\"relu\"))\n",
        "model.add(Dense(2,activation=\"softmax\"))\n",
        "model.summary()"
      ],
      "execution_count": null,
      "outputs": [
        {
          "output_type": "stream",
          "text": [
            "Model: \"sequential\"\n",
            "_________________________________________________________________\n",
            "Layer (type)                 Output Shape              Param #   \n",
            "=================================================================\n",
            "conv2d (Conv2D)              (None, 224, 224, 16)      208       \n",
            "_________________________________________________________________\n",
            "max_pooling2d (MaxPooling2D) (None, 112, 112, 16)      0         \n",
            "_________________________________________________________________\n",
            "conv2d_1 (Conv2D)            (None, 112, 112, 32)      2080      \n",
            "_________________________________________________________________\n",
            "max_pooling2d_1 (MaxPooling2 (None, 56, 56, 32)        0         \n",
            "_________________________________________________________________\n",
            "conv2d_2 (Conv2D)            (None, 56, 56, 64)        8256      \n",
            "_________________________________________________________________\n",
            "max_pooling2d_2 (MaxPooling2 (None, 28, 28, 64)        0         \n",
            "_________________________________________________________________\n",
            "flatten_1 (Flatten)          (None, 50176)             0         \n",
            "_________________________________________________________________\n",
            "dense_1 (Dense)              (None, 500)               25088500  \n",
            "_________________________________________________________________\n",
            "dense_2 (Dense)              (None, 2)                 1002      \n",
            "=================================================================\n",
            "Total params: 25,100,046\n",
            "Trainable params: 25,100,046\n",
            "Non-trainable params: 0\n",
            "_________________________________________________________________\n"
          ],
          "name": "stdout"
        }
      ]
    },
    {
      "cell_type": "code",
      "metadata": {
        "id": "7_M0in84_wtD",
        "colab_type": "code",
        "colab": {}
      },
      "source": [
        "# tell the model what cost and optimization method to use\n",
        "model.compile(\n",
        "  loss='categorical_crossentropy',\n",
        "  optimizer='adam',\n",
        "  metrics=['accuracy']\n",
        ")"
      ],
      "execution_count": null,
      "outputs": []
    },
    {
      "cell_type": "code",
      "metadata": {
        "id": "AqsNuR6s_9sx",
        "colab_type": "code",
        "colab": {}
      },
      "source": [
        "# Use the Image Data Generator to import the images from the dataset\n",
        "from tensorflow.keras.preprocessing.image import ImageDataGenerator\n",
        "\n",
        "train_datagen = ImageDataGenerator(rescale = 1./255,\n",
        "                                   shear_range = 0.2,\n",
        "                                   zoom_range = 0.2,\n",
        "                                   horizontal_flip = True)\n",
        "\n",
        "test_datagen = ImageDataGenerator(rescale = 1./255)"
      ],
      "execution_count": null,
      "outputs": []
    },
    {
      "cell_type": "code",
      "metadata": {
        "id": "BY7YP-EWASE-",
        "colab_type": "code",
        "colab": {
          "base_uri": "https://localhost:8080/",
          "height": 34
        },
        "outputId": "fb97c083-6300-4f39-bf7f-d4c66563eb12"
      },
      "source": [
        "# Make sure you provide the same target size as initialied for the image size\n",
        "training_set = train_datagen.flow_from_directory('/content/drive/My Drive/MTech/final_dataset/train',\n",
        "                                                 target_size = (224, 224),\n",
        "                                                 batch_size = 32,\n",
        "                                                 class_mode = 'categorical')"
      ],
      "execution_count": null,
      "outputs": [
        {
          "output_type": "stream",
          "text": [
            "Found 188 images belonging to 2 classes.\n"
          ],
          "name": "stdout"
        }
      ]
    },
    {
      "cell_type": "code",
      "metadata": {
        "id": "Z19Ddd6wMyxV",
        "colab_type": "code",
        "colab": {
          "base_uri": "https://localhost:8080/",
          "height": 34
        },
        "outputId": "61ef150a-dbd4-4769-d44c-338cd4da9266"
      },
      "source": [
        "test_set = test_datagen.flow_from_directory('/content/drive/My Drive/MTech/final_dataset/test',\n",
        "                                            target_size = (224, 224),\n",
        "                                            batch_size = 32,\n",
        "                                            class_mode = 'categorical')"
      ],
      "execution_count": null,
      "outputs": [
        {
          "output_type": "stream",
          "text": [
            "Found 75 images belonging to 2 classes.\n"
          ],
          "name": "stdout"
        }
      ]
    },
    {
      "cell_type": "code",
      "metadata": {
        "id": "FLFV77eiNA1K",
        "colab_type": "code",
        "colab": {
          "base_uri": "https://localhost:8080/",
          "height": 1000
        },
        "outputId": "4073a261-fea3-47dc-9025-b5eb99096210"
      },
      "source": [
        "# fit the model\n",
        "# Run the cell. It will take some time to execute\n",
        "r = model.fit_generator(\n",
        "  training_set,\n",
        "  validation_data=test_set,\n",
        "  epochs=50,\n",
        "  steps_per_epoch=len(training_set),\n",
        "  validation_steps=len(test_set)\n",
        ")"
      ],
      "execution_count": null,
      "outputs": [
        {
          "output_type": "stream",
          "text": [
            "WARNING:tensorflow:From <ipython-input-17-69229fe26ea3>:8: Model.fit_generator (from tensorflow.python.keras.engine.training) is deprecated and will be removed in a future version.\n",
            "Instructions for updating:\n",
            "Please use Model.fit, which supports generators.\n",
            "Epoch 1/50\n",
            "6/6 [==============================] - 161s 27s/step - loss: 1.4656 - accuracy: 0.5053 - val_loss: 0.4275 - val_accuracy: 0.8533\n",
            "Epoch 2/50\n",
            "6/6 [==============================] - 3s 522ms/step - loss: 0.6924 - accuracy: 0.6011 - val_loss: 0.5826 - val_accuracy: 0.6533\n",
            "Epoch 3/50\n",
            "6/6 [==============================] - 3s 518ms/step - loss: 0.6725 - accuracy: 0.6064 - val_loss: 0.5778 - val_accuracy: 0.7067\n",
            "Epoch 4/50\n",
            "6/6 [==============================] - 3s 511ms/step - loss: 0.6010 - accuracy: 0.7128 - val_loss: 0.5701 - val_accuracy: 0.7600\n",
            "Epoch 5/50\n",
            "6/6 [==============================] - 3s 517ms/step - loss: 0.5764 - accuracy: 0.7181 - val_loss: 0.4408 - val_accuracy: 0.8133\n",
            "Epoch 6/50\n",
            "6/6 [==============================] - 3s 519ms/step - loss: 0.5646 - accuracy: 0.6968 - val_loss: 0.4191 - val_accuracy: 0.8533\n",
            "Epoch 7/50\n",
            "6/6 [==============================] - 3s 521ms/step - loss: 0.4842 - accuracy: 0.7553 - val_loss: 0.5108 - val_accuracy: 0.7333\n",
            "Epoch 8/50\n",
            "6/6 [==============================] - 3s 564ms/step - loss: 0.5165 - accuracy: 0.7766 - val_loss: 0.5321 - val_accuracy: 0.6800\n",
            "Epoch 9/50\n",
            "6/6 [==============================] - 3s 561ms/step - loss: 0.4485 - accuracy: 0.8457 - val_loss: 0.4163 - val_accuracy: 0.7867\n",
            "Epoch 10/50\n",
            "6/6 [==============================] - 3s 528ms/step - loss: 0.4911 - accuracy: 0.7606 - val_loss: 0.4616 - val_accuracy: 0.7867\n",
            "Epoch 11/50\n",
            "6/6 [==============================] - 3s 515ms/step - loss: 0.4082 - accuracy: 0.8457 - val_loss: 0.4844 - val_accuracy: 0.7333\n",
            "Epoch 12/50\n",
            "6/6 [==============================] - 3s 517ms/step - loss: 0.3689 - accuracy: 0.8617 - val_loss: 0.4382 - val_accuracy: 0.8000\n",
            "Epoch 13/50\n",
            "6/6 [==============================] - 3s 522ms/step - loss: 0.4359 - accuracy: 0.8191 - val_loss: 0.4818 - val_accuracy: 0.8000\n",
            "Epoch 14/50\n",
            "6/6 [==============================] - 3s 518ms/step - loss: 0.3679 - accuracy: 0.8457 - val_loss: 0.4382 - val_accuracy: 0.8267\n",
            "Epoch 15/50\n",
            "6/6 [==============================] - 3s 515ms/step - loss: 0.3232 - accuracy: 0.8723 - val_loss: 0.4182 - val_accuracy: 0.8267\n",
            "Epoch 16/50\n",
            "6/6 [==============================] - 3s 525ms/step - loss: 0.3531 - accuracy: 0.8670 - val_loss: 0.4868 - val_accuracy: 0.7333\n",
            "Epoch 17/50\n",
            "6/6 [==============================] - 3s 513ms/step - loss: 0.3611 - accuracy: 0.8670 - val_loss: 0.5665 - val_accuracy: 0.7067\n",
            "Epoch 18/50\n",
            "6/6 [==============================] - 3s 515ms/step - loss: 0.3881 - accuracy: 0.8564 - val_loss: 0.5672 - val_accuracy: 0.7067\n",
            "Epoch 19/50\n",
            "6/6 [==============================] - 3s 513ms/step - loss: 0.3294 - accuracy: 0.8617 - val_loss: 0.4653 - val_accuracy: 0.8133\n",
            "Epoch 20/50\n",
            "6/6 [==============================] - 3s 515ms/step - loss: 0.3025 - accuracy: 0.8777 - val_loss: 0.4270 - val_accuracy: 0.8533\n",
            "Epoch 21/50\n",
            "6/6 [==============================] - 3s 526ms/step - loss: 0.3068 - accuracy: 0.8830 - val_loss: 0.5201 - val_accuracy: 0.7600\n",
            "Epoch 22/50\n",
            "6/6 [==============================] - 3s 527ms/step - loss: 0.2602 - accuracy: 0.8936 - val_loss: 0.4014 - val_accuracy: 0.8533\n",
            "Epoch 23/50\n",
            "6/6 [==============================] - 3s 518ms/step - loss: 0.2637 - accuracy: 0.8830 - val_loss: 0.6642 - val_accuracy: 0.7467\n",
            "Epoch 24/50\n",
            "6/6 [==============================] - 3s 519ms/step - loss: 0.3319 - accuracy: 0.8564 - val_loss: 0.4781 - val_accuracy: 0.7733\n",
            "Epoch 25/50\n",
            "6/6 [==============================] - 3s 524ms/step - loss: 0.2874 - accuracy: 0.9096 - val_loss: 0.4431 - val_accuracy: 0.7867\n",
            "Epoch 26/50\n",
            "6/6 [==============================] - 3s 531ms/step - loss: 0.2281 - accuracy: 0.9043 - val_loss: 0.5185 - val_accuracy: 0.7733\n",
            "Epoch 27/50\n",
            "6/6 [==============================] - 3s 512ms/step - loss: 0.2056 - accuracy: 0.9202 - val_loss: 0.5483 - val_accuracy: 0.7600\n",
            "Epoch 28/50\n",
            "6/6 [==============================] - 3s 508ms/step - loss: 0.2271 - accuracy: 0.9043 - val_loss: 0.4793 - val_accuracy: 0.7867\n",
            "Epoch 29/50\n",
            "6/6 [==============================] - 3s 517ms/step - loss: 0.2580 - accuracy: 0.9202 - val_loss: 0.6297 - val_accuracy: 0.7600\n",
            "Epoch 30/50\n",
            "6/6 [==============================] - 3s 518ms/step - loss: 0.2187 - accuracy: 0.9255 - val_loss: 0.4915 - val_accuracy: 0.8133\n",
            "Epoch 31/50\n",
            "6/6 [==============================] - 3s 523ms/step - loss: 0.2633 - accuracy: 0.8936 - val_loss: 0.4471 - val_accuracy: 0.7867\n",
            "Epoch 32/50\n",
            "6/6 [==============================] - 3s 521ms/step - loss: 0.1932 - accuracy: 0.9202 - val_loss: 0.4977 - val_accuracy: 0.7867\n",
            "Epoch 33/50\n",
            "6/6 [==============================] - 3s 526ms/step - loss: 0.2065 - accuracy: 0.9362 - val_loss: 0.4528 - val_accuracy: 0.8133\n",
            "Epoch 34/50\n",
            "6/6 [==============================] - 3s 523ms/step - loss: 0.1955 - accuracy: 0.9255 - val_loss: 0.4972 - val_accuracy: 0.8000\n",
            "Epoch 35/50\n",
            "6/6 [==============================] - 3s 515ms/step - loss: 0.2238 - accuracy: 0.9255 - val_loss: 0.4658 - val_accuracy: 0.7733\n",
            "Epoch 36/50\n",
            "6/6 [==============================] - 3s 521ms/step - loss: 0.1926 - accuracy: 0.9255 - val_loss: 0.5716 - val_accuracy: 0.7067\n",
            "Epoch 37/50\n",
            "6/6 [==============================] - 3s 507ms/step - loss: 0.1969 - accuracy: 0.9362 - val_loss: 0.6272 - val_accuracy: 0.7733\n",
            "Epoch 38/50\n",
            "6/6 [==============================] - 3s 503ms/step - loss: 0.1735 - accuracy: 0.9202 - val_loss: 0.3265 - val_accuracy: 0.8933\n",
            "Epoch 39/50\n",
            "6/6 [==============================] - 3s 509ms/step - loss: 0.1506 - accuracy: 0.9628 - val_loss: 0.5780 - val_accuracy: 0.8000\n",
            "Epoch 40/50\n",
            "6/6 [==============================] - 3s 559ms/step - loss: 0.1135 - accuracy: 0.9628 - val_loss: 0.7188 - val_accuracy: 0.7867\n",
            "Epoch 41/50\n",
            "6/6 [==============================] - 3s 545ms/step - loss: 0.1674 - accuracy: 0.9255 - val_loss: 0.6320 - val_accuracy: 0.8000\n",
            "Epoch 42/50\n",
            "6/6 [==============================] - 3s 523ms/step - loss: 0.1337 - accuracy: 0.9521 - val_loss: 0.7317 - val_accuracy: 0.7600\n",
            "Epoch 43/50\n",
            "6/6 [==============================] - 3s 526ms/step - loss: 0.1764 - accuracy: 0.9309 - val_loss: 0.4663 - val_accuracy: 0.8267\n",
            "Epoch 44/50\n",
            "6/6 [==============================] - 3s 520ms/step - loss: 0.0942 - accuracy: 0.9681 - val_loss: 0.6953 - val_accuracy: 0.7600\n",
            "Epoch 45/50\n",
            "6/6 [==============================] - 3s 527ms/step - loss: 0.1214 - accuracy: 0.9574 - val_loss: 0.4205 - val_accuracy: 0.8400\n",
            "Epoch 46/50\n",
            "6/6 [==============================] - 3s 523ms/step - loss: 0.0861 - accuracy: 0.9628 - val_loss: 0.3306 - val_accuracy: 0.8800\n",
            "Epoch 47/50\n",
            "6/6 [==============================] - 3s 540ms/step - loss: 0.0962 - accuracy: 0.9628 - val_loss: 0.8070 - val_accuracy: 0.7467\n",
            "Epoch 48/50\n",
            "6/6 [==============================] - 3s 517ms/step - loss: 0.1624 - accuracy: 0.9362 - val_loss: 0.3467 - val_accuracy: 0.8400\n",
            "Epoch 49/50\n",
            "6/6 [==============================] - 3s 511ms/step - loss: 0.1062 - accuracy: 0.9681 - val_loss: 0.8980 - val_accuracy: 0.7600\n",
            "Epoch 50/50\n",
            "6/6 [==============================] - 3s 517ms/step - loss: 0.1372 - accuracy: 0.9309 - val_loss: 0.3273 - val_accuracy: 0.8800\n"
          ],
          "name": "stdout"
        }
      ]
    },
    {
      "cell_type": "code",
      "metadata": {
        "id": "0MCgDb2ONP5C",
        "colab_type": "code",
        "colab": {
          "base_uri": "https://localhost:8080/",
          "height": 530
        },
        "outputId": "e40df2e4-f8c5-4169-fbd2-a37443639059"
      },
      "source": [
        "# plot the loss\n",
        "plt.plot(r.history['loss'], label='train loss')\n",
        "plt.plot(r.history['val_loss'], label='val loss')\n",
        "plt.legend()\n",
        "plt.show()\n",
        "plt.savefig('LossVal_loss')\n",
        "\n",
        "# plot the accuracy\n",
        "plt.plot(r.history['accuracy'], label='train acc')\n",
        "plt.plot(r.history['val_accuracy'], label='val acc')\n",
        "plt.legend()\n",
        "plt.show()\n",
        "plt.savefig('AccVal_acc')"
      ],
      "execution_count": null,
      "outputs": [
        {
          "output_type": "display_data",
          "data": {
            "image/png": "[encoded data removed]",
            "text/plain": [
              "<Figure size 432x288 with 1 Axes>"
            ]
          },
          "metadata": {
            "tags": [],
            "needs_background": "light"
          }
        },
        {
          "output_type": "display_data",
          "data": {
            "image/png": "[encoded data removed]",
            "text/plain": [
              "<Figure size 432x288 with 1 Axes>"
            ]
          },
          "metadata": {
            "tags": [],
            "needs_background": "light"
          }
        },
        {
          "output_type": "display_data",
          "data": {
            "text/plain": [
              "<Figure size 432x288 with 0 Axes>"
            ]
          },
          "metadata": {
            "tags": []
          }
        }
      ]
    },
    {
      "cell_type": "code",
      "metadata": {
        "id": "8H0wahhRU_wA",
        "colab_type": "code",
        "colab": {}
      },
      "source": [
        "# saving it as a h5 file\n",
        "\n",
        "\n",
        "from tensorflow.keras.models import load_model\n",
        "\n",
        "model.save('model_vgg19.h5')"
      ],
      "execution_count": null,
      "outputs": []
    },
    {
      "cell_type": "code",
      "metadata": {
        "id": "TxzZpbdWMyiV",
        "colab_type": "code",
        "colab": {}
      },
      "source": [
        "# # #downloading the model\n",
        "# from google.colab import files\n",
        "# files.download(\"model_vgg19.h5\")"
      ],
      "execution_count": null,
      "outputs": []
    },
    {
      "cell_type": "code",
      "metadata": {
        "id": "sK0Jg0vSRLWV",
        "colab_type": "code",
        "colab": {}
      },
      "source": [
        "y_pred = model.predict(test_set)"
      ],
      "execution_count": null,
      "outputs": []
    },
    {
      "cell_type": "code",
      "metadata": {
        "id": "nDhOhO1PZhxJ",
        "colab_type": "code",
        "colab": {
          "base_uri": "https://localhost:8080/",
          "height": 1000
        },
        "outputId": "031240d8-3176-4012-e5fc-2c5e76a10e91"
      },
      "source": [
        "y_pred"
      ],
      "execution_count": null,
      "outputs": [
        {
          "output_type": "execute_result",
          "data": {
            "text/plain": [
              "array([[1.3450570e-03, 9.9865496e-01],\n",
              "       [3.6755044e-02, 9.6324492e-01],\n",
              "       [9.9769300e-01, 2.3069440e-03],\n",
              "       [7.7990156e-01, 2.2009845e-01],\n",
              "       [2.2816805e-02, 9.7718322e-01],\n",
              "       [6.4775538e-01, 3.5224459e-01],\n",
              "       [6.8009835e-01, 3.1990159e-01],\n",
              "       [2.0174627e-04, 9.9979824e-01],\n",
              "       [9.8312342e-01, 1.6876603e-02],\n",
              "       [4.2720400e-03, 9.9572796e-01],\n",
              "       [1.0000000e+00, 1.7448961e-13],\n",
              "       [3.5908192e-01, 6.4091814e-01],\n",
              "       [9.9495041e-01, 5.0496189e-03],\n",
              "       [9.5856571e-01, 4.1434232e-02],\n",
              "       [8.3583593e-01, 1.6416413e-01],\n",
              "       [2.6693466e-05, 9.9997330e-01],\n",
              "       [1.5596273e-04, 9.9984396e-01],\n",
              "       [4.6362902e-06, 9.9999535e-01],\n",
              "       [2.6201222e-03, 9.9737984e-01],\n",
              "       [2.8926751e-03, 9.9710733e-01],\n",
              "       [1.3457076e-05, 9.9998653e-01],\n",
              "       [6.9600081e-01, 3.0399922e-01],\n",
              "       [6.7066178e-02, 9.3293381e-01],\n",
              "       [1.5762115e-02, 9.8423785e-01],\n",
              "       [7.5960112e-01, 2.4039891e-01],\n",
              "       [5.7589471e-01, 4.2410529e-01],\n",
              "       [8.4042167e-06, 9.9999154e-01],\n",
              "       [7.1506103e-05, 9.9992847e-01],\n",
              "       [9.5159137e-01, 4.8408650e-02],\n",
              "       [6.7605680e-01, 3.2394323e-01],\n",
              "       [1.4257181e-04, 9.9985743e-01],\n",
              "       [9.1930223e-01, 8.0697745e-02],\n",
              "       [2.9969507e-01, 7.0030493e-01],\n",
              "       [1.6674099e-03, 9.9833256e-01],\n",
              "       [2.7514286e-02, 9.7248566e-01],\n",
              "       [3.7425663e-02, 9.6257430e-01],\n",
              "       [1.6323948e-02, 9.8367602e-01],\n",
              "       [6.8831885e-01, 3.1168115e-01],\n",
              "       [4.0387580e-01, 5.9612417e-01],\n",
              "       [7.5946331e-01, 2.4053670e-01],\n",
              "       [3.9496243e-01, 6.0503757e-01],\n",
              "       [9.9785429e-01, 2.1456697e-03],\n",
              "       [8.6504772e-02, 9.1349518e-01],\n",
              "       [8.4162160e-04, 9.9915838e-01],\n",
              "       [1.4378616e-01, 8.5621387e-01],\n",
              "       [4.9147865e-01, 5.0852138e-01],\n",
              "       [4.1932243e-01, 5.8067757e-01],\n",
              "       [2.8511003e-01, 7.1489000e-01],\n",
              "       [3.6580506e-04, 9.9963415e-01],\n",
              "       [2.9880676e-01, 7.0119327e-01],\n",
              "       [6.4775538e-01, 3.5224459e-01],\n",
              "       [8.6906940e-01, 1.3093060e-01],\n",
              "       [7.8971898e-03, 9.9210280e-01],\n",
              "       [9.7040063e-01, 2.9599344e-02],\n",
              "       [9.9787450e-01, 2.1254455e-03],\n",
              "       [2.3223870e-02, 9.7677612e-01],\n",
              "       [3.5411886e-06, 9.9999642e-01],\n",
              "       [2.4215564e-02, 9.7578442e-01],\n",
              "       [5.6743026e-03, 9.9432570e-01],\n",
              "       [9.9993598e-01, 6.4068743e-05],\n",
              "       [9.7200078e-01, 2.7999187e-02],\n",
              "       [9.9842131e-01, 1.5786639e-03],\n",
              "       [2.5741771e-04, 9.9974257e-01],\n",
              "       [9.9988294e-01, 1.1710390e-04],\n",
              "       [9.8839033e-01, 1.1609645e-02],\n",
              "       [1.2896777e-02, 9.8710328e-01],\n",
              "       [9.9975294e-01, 2.4704624e-04],\n",
              "       [1.0000000e+00, 9.3247570e-09],\n",
              "       [9.9931645e-01, 6.8354368e-04],\n",
              "       [9.4614673e-01, 5.3853281e-02],\n",
              "       [9.8092127e-01, 1.9078784e-02],\n",
              "       [5.7562214e-05, 9.9994242e-01],\n",
              "       [9.8839033e-01, 1.1609645e-02],\n",
              "       [2.7294640e-04, 9.9972707e-01],\n",
              "       [1.3499436e-01, 8.6500561e-01]], dtype=float32)"
            ]
          },
          "metadata": {
            "tags": []
          },
          "execution_count": 32
        }
      ]
    },
    {
      "cell_type": "code",
      "metadata": {
        "id": "F26q_1obZkXL",
        "colab_type": "code",
        "colab": {}
      },
      "source": [
        "import numpy as np\n",
        "y_pred = np.argmax(y_pred, axis=1)"
      ],
      "execution_count": null,
      "outputs": []
    },
    {
      "cell_type": "code",
      "metadata": {
        "id": "Z-D9pZXxZuRB",
        "colab_type": "code",
        "colab": {
          "base_uri": "https://localhost:8080/",
          "height": 85
        },
        "outputId": "bec80b98-7010-4a77-afaa-ac14746a0518"
      },
      "source": [
        "y_pred"
      ],
      "execution_count": null,
      "outputs": [
        {
          "output_type": "execute_result",
          "data": {
            "text/plain": [
              "array([1, 1, 0, 0, 1, 0, 0, 1, 0, 1, 0, 1, 0, 0, 0, 1, 1, 1, 1, 1, 1, 0,\n",
              "       1, 1, 0, 0, 1, 1, 0, 0, 1, 0, 1, 1, 1, 1, 1, 0, 1, 0, 1, 0, 1, 1,\n",
              "       1, 1, 1, 1, 1, 1, 0, 0, 1, 0, 0, 1, 1, 1, 1, 0, 0, 0, 1, 0, 0, 1,\n",
              "       0, 0, 0, 0, 0, 1, 0, 1, 1])"
            ]
          },
          "metadata": {
            "tags": []
          },
          "execution_count": 34
        }
      ]
    },
    {
      "cell_type": "code",
      "metadata": {
        "id": "0uI3Z57SZyUt",
        "colab_type": "code",
        "colab": {}
      },
      "source": [
        "from tensorflow.keras.models import load_model\n",
        "from tensorflow.keras.preprocessing import image"
      ],
      "execution_count": null,
      "outputs": []
    },
    {
      "cell_type": "code",
      "metadata": {
        "id": "RepFSk0f--EN",
        "colab_type": "code",
        "colab": {}
      },
      "source": [
        "model=load_model('model_vgg19.h5')"
      ],
      "execution_count": null,
      "outputs": []
    },
    {
      "cell_type": "code",
      "metadata": {
        "id": "RDF4CP9vZ6e5",
        "colab_type": "code",
        "colab": {}
      },
      "source": [
        "img=image.load_img('/content/drive/My Drive/MTech/final_dataset/for_testing/non_tumor/3 no.jpg',target_size=(224,224))"
      ],
      "execution_count": null,
      "outputs": []
    },
    {
      "cell_type": "code",
      "metadata": {
        "id": "4aeD_rw5aJJi",
        "colab_type": "code",
        "colab": {
          "base_uri": "https://localhost:8080/",
          "height": 850
        },
        "outputId": "e577a7cd-5fb3-4882-8848-44fccf221b80"
      },
      "source": [
        "x=image.img_to_array(img)\n",
        "x"
      ],
      "execution_count": null,
      "outputs": [
        {
          "output_type": "execute_result",
          "data": {
            "text/plain": [
              "array([[[0., 0., 0.],\n",
              "        [0., 0., 0.],\n",
              "        [0., 0., 0.],\n",
              "        ...,\n",
              "        [0., 0., 0.],\n",
              "        [0., 0., 0.],\n",
              "        [0., 0., 0.]],\n",
              "\n",
              "       [[0., 0., 0.],\n",
              "        [0., 0., 0.],\n",
              "        [0., 0., 0.],\n",
              "        ...,\n",
              "        [0., 0., 0.],\n",
              "        [0., 0., 0.],\n",
              "        [0., 0., 0.]],\n",
              "\n",
              "       [[0., 0., 0.],\n",
              "        [0., 0., 0.],\n",
              "        [0., 0., 0.],\n",
              "        ...,\n",
              "        [0., 0., 0.],\n",
              "        [0., 0., 0.],\n",
              "        [0., 0., 0.]],\n",
              "\n",
              "       ...,\n",
              "\n",
              "       [[0., 0., 0.],\n",
              "        [0., 0., 0.],\n",
              "        [0., 0., 0.],\n",
              "        ...,\n",
              "        [0., 0., 0.],\n",
              "        [0., 0., 0.],\n",
              "        [0., 0., 0.]],\n",
              "\n",
              "       [[0., 0., 0.],\n",
              "        [0., 0., 0.],\n",
              "        [0., 0., 0.],\n",
              "        ...,\n",
              "        [0., 0., 0.],\n",
              "        [0., 0., 0.],\n",
              "        [0., 0., 0.]],\n",
              "\n",
              "       [[0., 0., 0.],\n",
              "        [0., 0., 0.],\n",
              "        [0., 0., 0.],\n",
              "        ...,\n",
              "        [0., 0., 0.],\n",
              "        [0., 0., 0.],\n",
              "        [0., 0., 0.]]], dtype=float32)"
            ]
          },
          "metadata": {
            "tags": []
          },
          "execution_count": 38
        }
      ]
    },
    {
      "cell_type": "code",
      "metadata": {
        "id": "Y57er2A4aNuW",
        "colab_type": "code",
        "colab": {
          "base_uri": "https://localhost:8080/",
          "height": 34
        },
        "outputId": "25812435-0732-4cba-a7ff-735b13e4855f"
      },
      "source": [
        "x.shape"
      ],
      "execution_count": null,
      "outputs": [
        {
          "output_type": "execute_result",
          "data": {
            "text/plain": [
              "(224, 224, 3)"
            ]
          },
          "metadata": {
            "tags": []
          },
          "execution_count": 39
        }
      ]
    },
    {
      "cell_type": "code",
      "metadata": {
        "id": "zeoRwSuvaQkn",
        "colab_type": "code",
        "colab": {}
      },
      "source": [
        "x=x/255"
      ],
      "execution_count": null,
      "outputs": []
    },
    {
      "cell_type": "code",
      "metadata": {
        "id": "6F_wwZ7raTAc",
        "colab_type": "code",
        "colab": {
          "base_uri": "https://localhost:8080/",
          "height": 34
        },
        "outputId": "39cb9bae-66db-4674-991b-0ba1a78cc7aa"
      },
      "source": [
        "x=np.expand_dims(x,axis=0)\n",
        "img_data=preprocess_input(x)\n",
        "img_data.shape"
      ],
      "execution_count": null,
      "outputs": [
        {
          "output_type": "execute_result",
          "data": {
            "text/plain": [
              "(1, 224, 224, 3)"
            ]
          },
          "metadata": {
            "tags": []
          },
          "execution_count": 41
        }
      ]
    },
    {
      "cell_type": "code",
      "metadata": {
        "id": "Q0JSZOj1aWo-",
        "colab_type": "code",
        "colab": {
          "base_uri": "https://localhost:8080/",
          "height": 105
        },
        "outputId": "79e68371-67ab-4a30-b99a-4f0e8825d7a6"
      },
      "source": [
        "model.predict_proba(x)"
      ],
      "execution_count": null,
      "outputs": [
        {
          "output_type": "stream",
          "text": [
            "WARNING:tensorflow:From <ipython-input-46-8c306c49edcd>:1: Sequential.predict_proba (from tensorflow.python.keras.engine.sequential) is deprecated and will be removed after 2021-01-01.\n",
            "Instructions for updating:\n",
            "Please use `model.predict()` instead.\n"
          ],
          "name": "stdout"
        },
        {
          "output_type": "execute_result",
          "data": {
            "text/plain": [
              "array([[1., 0.]], dtype=float32)"
            ]
          },
          "metadata": {
            "tags": []
          },
          "execution_count": 46
        }
      ]
    },
    {
      "cell_type": "code",
      "metadata": {
        "id": "ZxRN-S-faaE0",
        "colab_type": "code",
        "colab": {}
      },
      "source": [
        "a=np.argmax(model.predict(img_data), axis=1)"
      ],
      "execution_count": null,
      "outputs": []
    },
    {
      "cell_type": "code",
      "metadata": {
        "id": "DoiZeaOubQL8",
        "colab_type": "code",
        "colab": {
          "base_uri": "https://localhost:8080/",
          "height": 34
        },
        "outputId": "274f3974-c549-4576-ce26-82a96fe7915e"
      },
      "source": [
        "print(a)"
      ],
      "execution_count": null,
      "outputs": [
        {
          "output_type": "stream",
          "text": [
            "[0]\n"
          ],
          "name": "stdout"
        }
      ]
    },
    {
      "cell_type": "code",
      "metadata": {
        "id": "_4isnfrsbDvE",
        "colab_type": "code",
        "colab": {
          "base_uri": "https://localhost:8080/",
          "height": 34
        },
        "outputId": "8480911c-3fe3-422a-a3cb-07366c2f62e3"
      },
      "source": [
        "if(a==1):\n",
        "    print(\"Non_tumor\")\n",
        "else:\n",
        "    print(\"Tumor\")"
      ],
      "execution_count": null,
      "outputs": [
        {
          "output_type": "stream",
          "text": [
            "Tumor\n"
          ],
          "name": "stdout"
        }
      ]
    },
    {
      "cell_type": "code",
      "metadata": {
        "id": "AUC_lN2obMLW",
        "colab_type": "code",
        "colab": {}
      },
      "source": [
        ""
      ],
      "execution_count": null,
      "outputs": []
    },
    {
      "cell_type": "code",
      "metadata": {
        "id": "rjSOKan-f6TF",
        "colab_type": "code",
        "colab": {}
      },
      "source": [
        ""
      ],
      "execution_count": null,
      "outputs": []
    }
  ]
}